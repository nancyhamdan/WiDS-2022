{
  "cells": [
    {
      "cell_type": "markdown",
      "source": [
        "# WiDS 2022 Datathon\n",
        "### Nancy Hamdan"
      ],
      "metadata": {
        "id": "YmQTVAdn06py"
      }
    },
    {
      "cell_type": "markdown",
      "source": [
        "# Installing Libraries"
      ],
      "metadata": {
        "id": "h2TOWfKlSEyb"
      }
    },
    {
      "cell_type": "code",
      "source": [
        "!pip install category_encoders"
      ],
      "metadata": {
        "id": "lQ_wlwSD_-Tz"
      },
      "execution_count": null,
      "outputs": []
    },
    {
      "cell_type": "markdown",
      "source": [
        "# Importing Libraries"
      ],
      "metadata": {
        "id": "JecsecKzSJzR"
      }
    },
    {
      "cell_type": "code",
      "execution_count": null,
      "metadata": {
        "id": "qHOOW_QNS1dj"
      },
      "outputs": [],
      "source": [
        "import math\n",
        "import numpy as np\n",
        "import pandas as pd\n",
        "\n",
        "from sklearn.preprocessing import LabelEncoder\n",
        "from sklearn.preprocessing import MinMaxScaler\n",
        "from sklearn.metrics import mean_squared_error\n",
        "from sklearn.model_selection import GroupKFold, KFold\n",
        "import category_encoders as ce\n",
        "\n",
        "from sklearn.ensemble import RandomForestRegressor\n",
        "import lightgbm as lgb"
      ]
    },
    {
      "cell_type": "markdown",
      "metadata": {
        "id": "paCUne9nZf8k"
      },
      "source": [
        "# Getting Data"
      ]
    },
    {
      "cell_type": "code",
      "execution_count": 4,
      "metadata": {
        "id": "smVKTt-PTETn"
      },
      "outputs": [],
      "source": [
        "tr = pd.read_csv('train.csv')\n",
        "tt = pd.read_csv('test.csv')\n",
        "\n",
        "sub = pd.read_csv('sample_solution.csv')\n",
        "sub['id'] = tt['id']\n",
        "\n",
        "del tr['id']\n",
        "del tt['id']"
      ]
    },
    {
      "cell_type": "code",
      "execution_count": null,
      "metadata": {
        "colab": {
          "base_uri": "https://localhost:8080/",
          "height": 270
        },
        "id": "zHBhx_6RTJed",
        "outputId": "c32fa76d-5a46-4838-d519-85f059b9ef18"
      },
      "outputs": [
        {
          "output_type": "execute_result",
          "data": {
            "text/html": [
              "\n",
              "  <div id=\"df-224502ac-7c9a-4cbd-b80e-e6cf61084142\">\n",
              "    <div class=\"colab-df-container\">\n",
              "      <div>\n",
              "<style scoped>\n",
              "    .dataframe tbody tr th:only-of-type {\n",
              "        vertical-align: middle;\n",
              "    }\n",
              "\n",
              "    .dataframe tbody tr th {\n",
              "        vertical-align: top;\n",
              "    }\n",
              "\n",
              "    .dataframe thead th {\n",
              "        text-align: right;\n",
              "    }\n",
              "</style>\n",
              "<table border=\"1\" class=\"dataframe\">\n",
              "  <thead>\n",
              "    <tr style=\"text-align: right;\">\n",
              "      <th></th>\n",
              "      <th>Year_Factor</th>\n",
              "      <th>State_Factor</th>\n",
              "      <th>building_class</th>\n",
              "      <th>facility_type</th>\n",
              "      <th>floor_area</th>\n",
              "      <th>year_built</th>\n",
              "      <th>energy_star_rating</th>\n",
              "      <th>ELEVATION</th>\n",
              "      <th>january_min_temp</th>\n",
              "      <th>january_avg_temp</th>\n",
              "      <th>january_max_temp</th>\n",
              "      <th>february_min_temp</th>\n",
              "      <th>february_avg_temp</th>\n",
              "      <th>february_max_temp</th>\n",
              "      <th>march_min_temp</th>\n",
              "      <th>march_avg_temp</th>\n",
              "      <th>march_max_temp</th>\n",
              "      <th>april_min_temp</th>\n",
              "      <th>april_avg_temp</th>\n",
              "      <th>april_max_temp</th>\n",
              "      <th>may_min_temp</th>\n",
              "      <th>may_avg_temp</th>\n",
              "      <th>may_max_temp</th>\n",
              "      <th>june_min_temp</th>\n",
              "      <th>june_avg_temp</th>\n",
              "      <th>june_max_temp</th>\n",
              "      <th>july_min_temp</th>\n",
              "      <th>july_avg_temp</th>\n",
              "      <th>july_max_temp</th>\n",
              "      <th>august_min_temp</th>\n",
              "      <th>august_avg_temp</th>\n",
              "      <th>august_max_temp</th>\n",
              "      <th>september_min_temp</th>\n",
              "      <th>september_avg_temp</th>\n",
              "      <th>september_max_temp</th>\n",
              "      <th>october_min_temp</th>\n",
              "      <th>october_avg_temp</th>\n",
              "      <th>october_max_temp</th>\n",
              "      <th>november_min_temp</th>\n",
              "      <th>november_avg_temp</th>\n",
              "      <th>november_max_temp</th>\n",
              "      <th>december_min_temp</th>\n",
              "      <th>december_avg_temp</th>\n",
              "      <th>december_max_temp</th>\n",
              "      <th>cooling_degree_days</th>\n",
              "      <th>heating_degree_days</th>\n",
              "      <th>precipitation_inches</th>\n",
              "      <th>snowfall_inches</th>\n",
              "      <th>snowdepth_inches</th>\n",
              "      <th>avg_temp</th>\n",
              "      <th>days_below_30F</th>\n",
              "      <th>days_below_20F</th>\n",
              "      <th>days_below_10F</th>\n",
              "      <th>days_below_0F</th>\n",
              "      <th>days_above_80F</th>\n",
              "      <th>days_above_90F</th>\n",
              "      <th>days_above_100F</th>\n",
              "      <th>days_above_110F</th>\n",
              "      <th>direction_max_wind_speed</th>\n",
              "      <th>direction_peak_wind_speed</th>\n",
              "      <th>max_wind_speed</th>\n",
              "      <th>days_with_fog</th>\n",
              "      <th>site_eui</th>\n",
              "    </tr>\n",
              "  </thead>\n",
              "  <tbody>\n",
              "    <tr>\n",
              "      <th>0</th>\n",
              "      <td>1</td>\n",
              "      <td>State_1</td>\n",
              "      <td>Commercial</td>\n",
              "      <td>Grocery_store_or_food_market</td>\n",
              "      <td>61242.0</td>\n",
              "      <td>1942.0</td>\n",
              "      <td>11.0</td>\n",
              "      <td>2.4</td>\n",
              "      <td>36</td>\n",
              "      <td>50.5</td>\n",
              "      <td>68</td>\n",
              "      <td>35</td>\n",
              "      <td>50.589286</td>\n",
              "      <td>73</td>\n",
              "      <td>40</td>\n",
              "      <td>53.693548</td>\n",
              "      <td>80</td>\n",
              "      <td>41</td>\n",
              "      <td>55.5</td>\n",
              "      <td>78</td>\n",
              "      <td>46</td>\n",
              "      <td>56.854839</td>\n",
              "      <td>84</td>\n",
              "      <td>50</td>\n",
              "      <td>60.5</td>\n",
              "      <td>90</td>\n",
              "      <td>52</td>\n",
              "      <td>62.725806</td>\n",
              "      <td>84</td>\n",
              "      <td>52</td>\n",
              "      <td>62.16129</td>\n",
              "      <td>85</td>\n",
              "      <td>52</td>\n",
              "      <td>64.65</td>\n",
              "      <td>90</td>\n",
              "      <td>47</td>\n",
              "      <td>63.016129</td>\n",
              "      <td>83</td>\n",
              "      <td>43</td>\n",
              "      <td>53.8</td>\n",
              "      <td>72</td>\n",
              "      <td>36</td>\n",
              "      <td>49.274194</td>\n",
              "      <td>71</td>\n",
              "      <td>115</td>\n",
              "      <td>2960</td>\n",
              "      <td>16.59</td>\n",
              "      <td>0.0</td>\n",
              "      <td>0</td>\n",
              "      <td>56.972603</td>\n",
              "      <td>0</td>\n",
              "      <td>0</td>\n",
              "      <td>0</td>\n",
              "      <td>0</td>\n",
              "      <td>14</td>\n",
              "      <td>0</td>\n",
              "      <td>0</td>\n",
              "      <td>0</td>\n",
              "      <td>1.0</td>\n",
              "      <td>1.0</td>\n",
              "      <td>1.0</td>\n",
              "      <td>NaN</td>\n",
              "      <td>248.682615</td>\n",
              "    </tr>\n",
              "    <tr>\n",
              "      <th>1</th>\n",
              "      <td>1</td>\n",
              "      <td>State_1</td>\n",
              "      <td>Commercial</td>\n",
              "      <td>Warehouse_Distribution_or_Shipping_center</td>\n",
              "      <td>274000.0</td>\n",
              "      <td>1955.0</td>\n",
              "      <td>45.0</td>\n",
              "      <td>1.8</td>\n",
              "      <td>36</td>\n",
              "      <td>50.5</td>\n",
              "      <td>68</td>\n",
              "      <td>35</td>\n",
              "      <td>50.589286</td>\n",
              "      <td>73</td>\n",
              "      <td>40</td>\n",
              "      <td>53.693548</td>\n",
              "      <td>80</td>\n",
              "      <td>41</td>\n",
              "      <td>55.5</td>\n",
              "      <td>78</td>\n",
              "      <td>46</td>\n",
              "      <td>56.854839</td>\n",
              "      <td>84</td>\n",
              "      <td>50</td>\n",
              "      <td>60.5</td>\n",
              "      <td>90</td>\n",
              "      <td>52</td>\n",
              "      <td>62.725806</td>\n",
              "      <td>84</td>\n",
              "      <td>52</td>\n",
              "      <td>62.16129</td>\n",
              "      <td>85</td>\n",
              "      <td>52</td>\n",
              "      <td>64.65</td>\n",
              "      <td>90</td>\n",
              "      <td>47</td>\n",
              "      <td>63.016129</td>\n",
              "      <td>83</td>\n",
              "      <td>43</td>\n",
              "      <td>53.8</td>\n",
              "      <td>72</td>\n",
              "      <td>36</td>\n",
              "      <td>49.274194</td>\n",
              "      <td>71</td>\n",
              "      <td>115</td>\n",
              "      <td>2960</td>\n",
              "      <td>16.59</td>\n",
              "      <td>0.0</td>\n",
              "      <td>0</td>\n",
              "      <td>56.972603</td>\n",
              "      <td>0</td>\n",
              "      <td>0</td>\n",
              "      <td>0</td>\n",
              "      <td>0</td>\n",
              "      <td>14</td>\n",
              "      <td>0</td>\n",
              "      <td>0</td>\n",
              "      <td>0</td>\n",
              "      <td>1.0</td>\n",
              "      <td>NaN</td>\n",
              "      <td>1.0</td>\n",
              "      <td>12.0</td>\n",
              "      <td>26.500150</td>\n",
              "    </tr>\n",
              "    <tr>\n",
              "      <th>2</th>\n",
              "      <td>1</td>\n",
              "      <td>State_1</td>\n",
              "      <td>Commercial</td>\n",
              "      <td>Retail_Enclosed_mall</td>\n",
              "      <td>280025.0</td>\n",
              "      <td>1951.0</td>\n",
              "      <td>97.0</td>\n",
              "      <td>1.8</td>\n",
              "      <td>36</td>\n",
              "      <td>50.5</td>\n",
              "      <td>68</td>\n",
              "      <td>35</td>\n",
              "      <td>50.589286</td>\n",
              "      <td>73</td>\n",
              "      <td>40</td>\n",
              "      <td>53.693548</td>\n",
              "      <td>80</td>\n",
              "      <td>41</td>\n",
              "      <td>55.5</td>\n",
              "      <td>78</td>\n",
              "      <td>46</td>\n",
              "      <td>56.854839</td>\n",
              "      <td>84</td>\n",
              "      <td>50</td>\n",
              "      <td>60.5</td>\n",
              "      <td>90</td>\n",
              "      <td>52</td>\n",
              "      <td>62.725806</td>\n",
              "      <td>84</td>\n",
              "      <td>52</td>\n",
              "      <td>62.16129</td>\n",
              "      <td>85</td>\n",
              "      <td>52</td>\n",
              "      <td>64.65</td>\n",
              "      <td>90</td>\n",
              "      <td>47</td>\n",
              "      <td>63.016129</td>\n",
              "      <td>83</td>\n",
              "      <td>43</td>\n",
              "      <td>53.8</td>\n",
              "      <td>72</td>\n",
              "      <td>36</td>\n",
              "      <td>49.274194</td>\n",
              "      <td>71</td>\n",
              "      <td>115</td>\n",
              "      <td>2960</td>\n",
              "      <td>16.59</td>\n",
              "      <td>0.0</td>\n",
              "      <td>0</td>\n",
              "      <td>56.972603</td>\n",
              "      <td>0</td>\n",
              "      <td>0</td>\n",
              "      <td>0</td>\n",
              "      <td>0</td>\n",
              "      <td>14</td>\n",
              "      <td>0</td>\n",
              "      <td>0</td>\n",
              "      <td>0</td>\n",
              "      <td>1.0</td>\n",
              "      <td>NaN</td>\n",
              "      <td>1.0</td>\n",
              "      <td>12.0</td>\n",
              "      <td>24.693619</td>\n",
              "    </tr>\n",
              "    <tr>\n",
              "      <th>3</th>\n",
              "      <td>1</td>\n",
              "      <td>State_1</td>\n",
              "      <td>Commercial</td>\n",
              "      <td>Education_Other_classroom</td>\n",
              "      <td>55325.0</td>\n",
              "      <td>1980.0</td>\n",
              "      <td>46.0</td>\n",
              "      <td>1.8</td>\n",
              "      <td>36</td>\n",
              "      <td>50.5</td>\n",
              "      <td>68</td>\n",
              "      <td>35</td>\n",
              "      <td>50.589286</td>\n",
              "      <td>73</td>\n",
              "      <td>40</td>\n",
              "      <td>53.693548</td>\n",
              "      <td>80</td>\n",
              "      <td>41</td>\n",
              "      <td>55.5</td>\n",
              "      <td>78</td>\n",
              "      <td>46</td>\n",
              "      <td>56.854839</td>\n",
              "      <td>84</td>\n",
              "      <td>50</td>\n",
              "      <td>60.5</td>\n",
              "      <td>90</td>\n",
              "      <td>52</td>\n",
              "      <td>62.725806</td>\n",
              "      <td>84</td>\n",
              "      <td>52</td>\n",
              "      <td>62.16129</td>\n",
              "      <td>85</td>\n",
              "      <td>52</td>\n",
              "      <td>64.65</td>\n",
              "      <td>90</td>\n",
              "      <td>47</td>\n",
              "      <td>63.016129</td>\n",
              "      <td>83</td>\n",
              "      <td>43</td>\n",
              "      <td>53.8</td>\n",
              "      <td>72</td>\n",
              "      <td>36</td>\n",
              "      <td>49.274194</td>\n",
              "      <td>71</td>\n",
              "      <td>115</td>\n",
              "      <td>2960</td>\n",
              "      <td>16.59</td>\n",
              "      <td>0.0</td>\n",
              "      <td>0</td>\n",
              "      <td>56.972603</td>\n",
              "      <td>0</td>\n",
              "      <td>0</td>\n",
              "      <td>0</td>\n",
              "      <td>0</td>\n",
              "      <td>14</td>\n",
              "      <td>0</td>\n",
              "      <td>0</td>\n",
              "      <td>0</td>\n",
              "      <td>1.0</td>\n",
              "      <td>NaN</td>\n",
              "      <td>1.0</td>\n",
              "      <td>12.0</td>\n",
              "      <td>48.406926</td>\n",
              "    </tr>\n",
              "    <tr>\n",
              "      <th>4</th>\n",
              "      <td>1</td>\n",
              "      <td>State_1</td>\n",
              "      <td>Commercial</td>\n",
              "      <td>Warehouse_Nonrefrigerated</td>\n",
              "      <td>66000.0</td>\n",
              "      <td>1985.0</td>\n",
              "      <td>100.0</td>\n",
              "      <td>2.4</td>\n",
              "      <td>36</td>\n",
              "      <td>50.5</td>\n",
              "      <td>68</td>\n",
              "      <td>35</td>\n",
              "      <td>50.589286</td>\n",
              "      <td>73</td>\n",
              "      <td>40</td>\n",
              "      <td>53.693548</td>\n",
              "      <td>80</td>\n",
              "      <td>41</td>\n",
              "      <td>55.5</td>\n",
              "      <td>78</td>\n",
              "      <td>46</td>\n",
              "      <td>56.854839</td>\n",
              "      <td>84</td>\n",
              "      <td>50</td>\n",
              "      <td>60.5</td>\n",
              "      <td>90</td>\n",
              "      <td>52</td>\n",
              "      <td>62.725806</td>\n",
              "      <td>84</td>\n",
              "      <td>52</td>\n",
              "      <td>62.16129</td>\n",
              "      <td>85</td>\n",
              "      <td>52</td>\n",
              "      <td>64.65</td>\n",
              "      <td>90</td>\n",
              "      <td>47</td>\n",
              "      <td>63.016129</td>\n",
              "      <td>83</td>\n",
              "      <td>43</td>\n",
              "      <td>53.8</td>\n",
              "      <td>72</td>\n",
              "      <td>36</td>\n",
              "      <td>49.274194</td>\n",
              "      <td>71</td>\n",
              "      <td>115</td>\n",
              "      <td>2960</td>\n",
              "      <td>16.59</td>\n",
              "      <td>0.0</td>\n",
              "      <td>0</td>\n",
              "      <td>56.972603</td>\n",
              "      <td>0</td>\n",
              "      <td>0</td>\n",
              "      <td>0</td>\n",
              "      <td>0</td>\n",
              "      <td>14</td>\n",
              "      <td>0</td>\n",
              "      <td>0</td>\n",
              "      <td>0</td>\n",
              "      <td>1.0</td>\n",
              "      <td>1.0</td>\n",
              "      <td>1.0</td>\n",
              "      <td>NaN</td>\n",
              "      <td>3.899395</td>\n",
              "    </tr>\n",
              "  </tbody>\n",
              "</table>\n",
              "</div>\n",
              "      <button class=\"colab-df-convert\" onclick=\"convertToInteractive('df-224502ac-7c9a-4cbd-b80e-e6cf61084142')\"\n",
              "              title=\"Convert this dataframe to an interactive table.\"\n",
              "              style=\"display:none;\">\n",
              "        \n",
              "  <svg xmlns=\"http://www.w3.org/2000/svg\" height=\"24px\"viewBox=\"0 0 24 24\"\n",
              "       width=\"24px\">\n",
              "    <path d=\"M0 0h24v24H0V0z\" fill=\"none\"/>\n",
              "    <path d=\"M18.56 5.44l.94 2.06.94-2.06 2.06-.94-2.06-.94-.94-2.06-.94 2.06-2.06.94zm-11 1L8.5 8.5l.94-2.06 2.06-.94-2.06-.94L8.5 2.5l-.94 2.06-2.06.94zm10 10l.94 2.06.94-2.06 2.06-.94-2.06-.94-.94-2.06-.94 2.06-2.06.94z\"/><path d=\"M17.41 7.96l-1.37-1.37c-.4-.4-.92-.59-1.43-.59-.52 0-1.04.2-1.43.59L10.3 9.45l-7.72 7.72c-.78.78-.78 2.05 0 2.83L4 21.41c.39.39.9.59 1.41.59.51 0 1.02-.2 1.41-.59l7.78-7.78 2.81-2.81c.8-.78.8-2.07 0-2.86zM5.41 20L4 18.59l7.72-7.72 1.47 1.35L5.41 20z\"/>\n",
              "  </svg>\n",
              "      </button>\n",
              "      \n",
              "  <style>\n",
              "    .colab-df-container {\n",
              "      display:flex;\n",
              "      flex-wrap:wrap;\n",
              "      gap: 12px;\n",
              "    }\n",
              "\n",
              "    .colab-df-convert {\n",
              "      background-color: #E8F0FE;\n",
              "      border: none;\n",
              "      border-radius: 50%;\n",
              "      cursor: pointer;\n",
              "      display: none;\n",
              "      fill: #1967D2;\n",
              "      height: 32px;\n",
              "      padding: 0 0 0 0;\n",
              "      width: 32px;\n",
              "    }\n",
              "\n",
              "    .colab-df-convert:hover {\n",
              "      background-color: #E2EBFA;\n",
              "      box-shadow: 0px 1px 2px rgba(60, 64, 67, 0.3), 0px 1px 3px 1px rgba(60, 64, 67, 0.15);\n",
              "      fill: #174EA6;\n",
              "    }\n",
              "\n",
              "    [theme=dark] .colab-df-convert {\n",
              "      background-color: #3B4455;\n",
              "      fill: #D2E3FC;\n",
              "    }\n",
              "\n",
              "    [theme=dark] .colab-df-convert:hover {\n",
              "      background-color: #434B5C;\n",
              "      box-shadow: 0px 1px 3px 1px rgba(0, 0, 0, 0.15);\n",
              "      filter: drop-shadow(0px 1px 2px rgba(0, 0, 0, 0.3));\n",
              "      fill: #FFFFFF;\n",
              "    }\n",
              "  </style>\n",
              "\n",
              "      <script>\n",
              "        const buttonEl =\n",
              "          document.querySelector('#df-224502ac-7c9a-4cbd-b80e-e6cf61084142 button.colab-df-convert');\n",
              "        buttonEl.style.display =\n",
              "          google.colab.kernel.accessAllowed ? 'block' : 'none';\n",
              "\n",
              "        async function convertToInteractive(key) {\n",
              "          const element = document.querySelector('#df-224502ac-7c9a-4cbd-b80e-e6cf61084142');\n",
              "          const dataTable =\n",
              "            await google.colab.kernel.invokeFunction('convertToInteractive',\n",
              "                                                     [key], {});\n",
              "          if (!dataTable) return;\n",
              "\n",
              "          const docLinkHtml = 'Like what you see? Visit the ' +\n",
              "            '<a target=\"_blank\" href=https://colab.research.google.com/notebooks/data_table.ipynb>data table notebook</a>'\n",
              "            + ' to learn more about interactive tables.';\n",
              "          element.innerHTML = '';\n",
              "          dataTable['output_type'] = 'display_data';\n",
              "          await google.colab.output.renderOutput(dataTable, element);\n",
              "          const docLink = document.createElement('div');\n",
              "          docLink.innerHTML = docLinkHtml;\n",
              "          element.appendChild(docLink);\n",
              "        }\n",
              "      </script>\n",
              "    </div>\n",
              "  </div>\n",
              "  "
            ],
            "text/plain": [
              "   Year_Factor State_Factor  ... days_with_fog    site_eui\n",
              "0            1      State_1  ...           NaN  248.682615\n",
              "1            1      State_1  ...          12.0   26.500150\n",
              "2            1      State_1  ...          12.0   24.693619\n",
              "3            1      State_1  ...          12.0   48.406926\n",
              "4            1      State_1  ...           NaN    3.899395\n",
              "\n",
              "[5 rows x 63 columns]"
            ]
          },
          "metadata": {},
          "execution_count": 5
        }
      ],
      "source": [
        "tr.head()"
      ]
    },
    {
      "cell_type": "code",
      "execution_count": 5,
      "metadata": {
        "colab": {
          "base_uri": "https://localhost:8080/"
        },
        "id": "7I0Unkwa0JNG",
        "outputId": "779e86e9-1ca8-4204-c8bf-71cc6bf3f7a5"
      },
      "outputs": [
        {
          "output_type": "execute_result",
          "data": {
            "text/plain": [
              "75757"
            ]
          },
          "metadata": {},
          "execution_count": 5
        }
      ],
      "source": [
        "len(tr)"
      ]
    },
    {
      "cell_type": "code",
      "execution_count": 6,
      "metadata": {
        "colab": {
          "base_uri": "https://localhost:8080/"
        },
        "id": "DEFI9lf90LEf",
        "outputId": "ff6ef8a0-a490-4178-8c44-ab88f0aea2a9"
      },
      "outputs": [
        {
          "output_type": "execute_result",
          "data": {
            "text/plain": [
              "9705"
            ]
          },
          "metadata": {},
          "execution_count": 6
        }
      ],
      "source": [
        "len(tt)"
      ]
    },
    {
      "cell_type": "code",
      "source": [
        "len(sub)"
      ],
      "metadata": {
        "colab": {
          "base_uri": "https://localhost:8080/"
        },
        "id": "9y-XyB83lR_E",
        "outputId": "3d114381-54f7-485b-dfb4-3f2009fae2b3"
      },
      "execution_count": 7,
      "outputs": [
        {
          "output_type": "execute_result",
          "data": {
            "text/plain": [
              "9705"
            ]
          },
          "metadata": {},
          "execution_count": 7
        }
      ]
    },
    {
      "cell_type": "code",
      "execution_count": 8,
      "metadata": {
        "colab": {
          "base_uri": "https://localhost:8080/"
        },
        "id": "qBjZs6GNEeWt",
        "outputId": "c0e6ed1e-4a30-4221-9158-96708a8c7a0c"
      },
      "outputs": [
        {
          "output_type": "execute_result",
          "data": {
            "text/plain": [
              "Index(['Year_Factor', 'State_Factor', 'building_class', 'facility_type',\n",
              "       'floor_area', 'year_built', 'energy_star_rating', 'ELEVATION',\n",
              "       'january_min_temp', 'january_avg_temp', 'january_max_temp',\n",
              "       'february_min_temp', 'february_avg_temp', 'february_max_temp',\n",
              "       'march_min_temp', 'march_avg_temp', 'march_max_temp', 'april_min_temp',\n",
              "       'april_avg_temp', 'april_max_temp', 'may_min_temp', 'may_avg_temp',\n",
              "       'may_max_temp', 'june_min_temp', 'june_avg_temp', 'june_max_temp',\n",
              "       'july_min_temp', 'july_avg_temp', 'july_max_temp', 'august_min_temp',\n",
              "       'august_avg_temp', 'august_max_temp', 'september_min_temp',\n",
              "       'september_avg_temp', 'september_max_temp', 'october_min_temp',\n",
              "       'october_avg_temp', 'october_max_temp', 'november_min_temp',\n",
              "       'november_avg_temp', 'november_max_temp', 'december_min_temp',\n",
              "       'december_avg_temp', 'december_max_temp', 'cooling_degree_days',\n",
              "       'heating_degree_days', 'precipitation_inches', 'snowfall_inches',\n",
              "       'snowdepth_inches', 'avg_temp', 'days_below_30F', 'days_below_20F',\n",
              "       'days_below_10F', 'days_below_0F', 'days_above_80F', 'days_above_90F',\n",
              "       'days_above_100F', 'days_above_110F', 'direction_max_wind_speed',\n",
              "       'direction_peak_wind_speed', 'max_wind_speed', 'days_with_fog',\n",
              "       'site_eui'],\n",
              "      dtype='object')"
            ]
          },
          "metadata": {},
          "execution_count": 8
        }
      ],
      "source": [
        "tr.columns"
      ]
    },
    {
      "cell_type": "code",
      "execution_count": 9,
      "metadata": {
        "colab": {
          "base_uri": "https://localhost:8080/"
        },
        "id": "7A-iZV7fqhA1",
        "outputId": "dd404405-0853-4ce5-839e-f84633c22f5d"
      },
      "outputs": [
        {
          "output_type": "execute_result",
          "data": {
            "text/plain": [
              "63"
            ]
          },
          "metadata": {},
          "execution_count": 9
        }
      ],
      "source": [
        "len(tr.columns)"
      ]
    },
    {
      "cell_type": "markdown",
      "metadata": {
        "id": "QTFIXGXVFtbP"
      },
      "source": [
        "# Functions"
      ]
    },
    {
      "cell_type": "code",
      "execution_count": 10,
      "metadata": {
        "id": "0Gvauy9KU_-o"
      },
      "outputs": [],
      "source": [
        "def drop_features(df, features_to_drop):\n",
        "  df = df.drop(features_to_drop, axis=1)\n",
        "  return df"
      ]
    },
    {
      "cell_type": "markdown",
      "metadata": {
        "id": "JfZ59ZuDKoWL"
      },
      "source": [
        "## Imputing Missing Values"
      ]
    },
    {
      "cell_type": "code",
      "execution_count": 11,
      "metadata": {
        "id": "8T_bhdmfKrHr"
      },
      "outputs": [],
      "source": [
        "def naive_impute(train, test):\n",
        "  features = train.columns\n",
        "\n",
        "  if 'year_built' in features:\n",
        "    train['year_built'] = train['year_built'].replace(np.nan, -9999)\n",
        "    test['year_built'] = test['year_built'].replace(np.nan, -9999)\n",
        "  \n",
        "  if 'energy_star_rating' in features:\n",
        "    train['energy_star_rating'] = train['energy_star_rating'].replace(np.nan, -9999)\n",
        "    test['energy_star_rating'] = test['energy_star_rating'].replace(np.nan, -9999)\n",
        "  \n",
        "  if 'direction_max_wind_speed' in features:\n",
        "    train['direction_max_wind_speed']= train['direction_max_wind_speed'].replace(np.nan, train['direction_max_wind_speed'].mean())\n",
        "    test['direction_max_wind_speed']= test['direction_max_wind_speed'].replace(np.nan, test['direction_max_wind_speed'].mean())\n",
        "  \n",
        "  if 'direction_peak_wind_speed' in features:\n",
        "    train['direction_peak_wind_speed'] = train['direction_peak_wind_speed'].replace(np.nan, train['direction_peak_wind_speed'].mean())\n",
        "    test['direction_peak_wind_speed'] = test['direction_peak_wind_speed'].replace(np.nan, test['direction_peak_wind_speed'].mean())\n",
        "  \n",
        "  if 'max_wind_speed' in features:\n",
        "    train['max_wind_speed'] = train['max_wind_speed'].replace(np.nan, train['max_wind_speed'].mean())\n",
        "    test['max_wind_speed'] = test['max_wind_speed'].replace(np.nan, test['max_wind_speed'].mean())\n",
        "  \n",
        "  if 'days_with_fog' in features:\n",
        "    train['days_with_fog'] = train['days_with_fog'].replace(np.nan, train['days_with_fog'].mean())\n",
        "    test['days_with_fog'] = test['days_with_fog'].replace(np.nan, test['days_with_fog'].mean())\n",
        "  return train, test"
      ]
    },
    {
      "cell_type": "markdown",
      "metadata": {
        "id": "qoNNNK_La1zR"
      },
      "source": [
        "## Adding Features"
      ]
    },
    {
      "cell_type": "code",
      "source": [
        "def create_interaction_feature(data, feature_name, cols):\n",
        "  data[feature_name] = data[cols].apply(lambda row: '_'.join(row.values.astype(str)), axis=1)\n",
        "  return data\n",
        "\n",
        "def add_interaction_features(data, features_toAdd):\n",
        "  for feature in features_toAdd:\n",
        "    data = create_interaction_feature(data, feature, features_toAdd[feature])\n",
        "  return data"
      ],
      "metadata": {
        "id": "9LjMLY9G27uF"
      },
      "execution_count": 12,
      "outputs": []
    },
    {
      "cell_type": "markdown",
      "metadata": {
        "id": "kCbsXviXavNW"
      },
      "source": [
        "## Feature Transformation Functions"
      ]
    },
    {
      "cell_type": "code",
      "source": [
        "def target_encode_categs(train, test):\n",
        "  categorical_features = [col for col in train.columns if train[col].dtype == 'O']\n",
        "  encoder = ce.TargetEncoder(cols=categorical_features)\n",
        "\n",
        "  X = train.drop('site_eui', axis=1)\n",
        "  y = train['site_eui']\n",
        "\n",
        "  encoder.fit(X[categorical_features], y)\n",
        "  train[categorical_features] = encoder.transform(train[categorical_features])\n",
        "  test[categorical_features] = encoder.transform(test[categorical_features])\n",
        "  return train, test"
      ],
      "metadata": {
        "id": "IYiMYSU1AGtk"
      },
      "execution_count": 13,
      "outputs": []
    },
    {
      "cell_type": "code",
      "source": [
        "def min_max_scale_features(train, test):\n",
        "  categorical_features = [col for col in train.columns if train[col].dtype == 'O']\n",
        "  numerical_features = [col for col in train.columns if col not in categorical_features and col != 'site_eui']\n",
        "  scaler = MinMaxScaler()\n",
        "  train[numerical_features] = scaler.fit_transform(train[numerical_features])\n",
        "  test[numerical_features] = scaler.transform(test[numerical_features])\n",
        "  return train, test"
      ],
      "metadata": {
        "id": "Lry9wUrtUOQA"
      },
      "execution_count": 14,
      "outputs": []
    },
    {
      "cell_type": "markdown",
      "metadata": {
        "id": "x_D-yA2ZMSdL"
      },
      "source": [
        "## Model Building Functions"
      ]
    },
    {
      "cell_type": "markdown",
      "source": [
        "### LightGBM"
      ],
      "metadata": {
        "id": "HkrytIeXIEr4"
      }
    },
    {
      "cell_type": "code",
      "execution_count": 15,
      "metadata": {
        "id": "S90zTwuO-f09"
      },
      "outputs": [],
      "source": [
        "def train_lgbm(X_train, y_train, X_val, y_val):\n",
        "  lgbm_train = lgb.Dataset(X_train, y_train)\n",
        "  lgbm_val = lgb.Dataset(X_val, y_val)\n",
        "  \n",
        "  params = {\n",
        "          'task': 'train',\n",
        "          'boosting_type': 'gbdt',\n",
        "          'objective': 'regression',\n",
        "          'metric': {'rmse'},\n",
        "          \"max_depth\":12,\n",
        "          \"num_leaves\":32,\n",
        "          'learning_rate': 0.1,\n",
        "          \"min_child_samples\": 100,\n",
        "          'feature_fraction': 0.9,\n",
        "          \"bagging_freq\":1,\n",
        "          'bagging_fraction': 0.9,\n",
        "          \"lambda_l1\":10,\n",
        "          \"lambda_l2\":10,\n",
        "          'min_data_per_group':500,\n",
        "          'verbose': 0\n",
        "          }\n",
        "\n",
        "  model = lgb.train(params,\n",
        "                    lgbm_train,\n",
        "                    num_boost_round=13100,\n",
        "                    valid_sets=lgbm_val,\n",
        "                    early_stopping_rounds=50,\n",
        "                    verbose_eval=0)\n",
        "  \n",
        "  return model"
      ]
    },
    {
      "cell_type": "markdown",
      "source": [
        "### Random Forest Regressor"
      ],
      "metadata": {
        "id": "IlA-WrhQivwJ"
      }
    },
    {
      "cell_type": "code",
      "source": [
        "def train_rf(X_train, y_train, X_val, y_val):\n",
        "  model = RandomForestRegressor(random_state=42, n_estimators=150, max_depth=50)\n",
        "  model.fit(X_train, y_train)\n",
        "  return model"
      ],
      "metadata": {
        "id": "HWlrWAxOivPS"
      },
      "execution_count": 16,
      "outputs": []
    },
    {
      "cell_type": "markdown",
      "metadata": {
        "id": "rIMHy1fROwf-"
      },
      "source": [
        "## Cross Validation Function"
      ]
    },
    {
      "cell_type": "code",
      "source": [
        "def groupkFold_cross_validate(data, impute_missing, encode_categs, scale_features, train_model):\n",
        "  X = data.drop('site_eui', axis=1)\n",
        "  y = data['site_eui']\n",
        "  \n",
        "  y_true, y_pred = list(), list()\n",
        "\n",
        "  i = 1\n",
        "  kfold = GroupKFold(n_splits=6)\n",
        "  for train_idx, val_idx in kfold.split(X, y, groups=data['Year_Factor']):\n",
        "    train, val = data.loc[train_idx], data.loc[val_idx]\n",
        "\n",
        "    train, val = encode_categs(train, val)\n",
        "    train, val = impute_missing(train, val)\n",
        "    train, val = scale_features(train, val)\n",
        "    \n",
        "    X_train = train.drop('site_eui', axis=1)\n",
        "    y_train = train['site_eui']\n",
        "\n",
        "    X_val = val.drop('site_eui', axis=1)\n",
        "    y_val = val['site_eui']\n",
        "\n",
        "    model = train_model(X_train, y_train, X_val, y_val)\n",
        "    \n",
        "    val_pred = model.predict(X_val)\n",
        "\n",
        "    y_pred.extend(val_pred)\n",
        "    y_true.extend(y_val)\n",
        "\n",
        "    fold_rmse = mean_squared_error(y_val, val_pred, squared=False)\n",
        "    print(f'- RMSE of fold {i} = {fold_rmse}')\n",
        "    i = i+1\n",
        "  \n",
        "  rmse = mean_squared_error(y_true, y_pred, squared=False)\n",
        "  print(f'OOF RMSE = {rmse}')\n",
        "  return rmse"
      ],
      "metadata": {
        "id": "17I_vXXjoUGI"
      },
      "execution_count": 17,
      "outputs": []
    },
    {
      "cell_type": "markdown",
      "metadata": {
        "id": "RWTbEoZH17DE"
      },
      "source": [
        "# Preparing Data for Functions"
      ]
    },
    {
      "cell_type": "code",
      "execution_count": 18,
      "metadata": {
        "id": "vf9c648zG8Ly"
      },
      "outputs": [],
      "source": [
        "train = tr.copy()\n",
        "test = tt.copy()"
      ]
    },
    {
      "cell_type": "code",
      "execution_count": 19,
      "metadata": {
        "id": "6_07gl0pHFLi"
      },
      "outputs": [],
      "source": [
        "features_to_drop = ['january_min_temp', 'january_max_temp',\n",
        "       'february_min_temp', 'february_max_temp',\n",
        "       'march_min_temp', 'march_max_temp', 'april_min_temp',\n",
        "       'april_max_temp', 'may_min_temp',\n",
        "       'may_max_temp', 'june_min_temp', 'june_max_temp',\n",
        "       'july_min_temp', 'july_max_temp', 'august_min_temp', 'august_max_temp', \n",
        "       'september_min_temp', 'september_max_temp', 'october_min_temp',\n",
        "       'october_max_temp', 'november_min_temp', 'november_max_temp', 'december_min_temp',\n",
        "       'december_max_temp',\n",
        "       'days_with_fog', 'direction_peak_wind_speed', 'max_wind_speed', 'direction_max_wind_speed',\n",
        "        'avg_temp', 'snowfall_inches', 'heating_degree_days', 'cooling_degree_days', \n",
        "       'days_below_30F',  'days_below_10F',  'snowdepth_inches', 'building_class',\n",
        "       'days_below_0F', 'days_below_20F', 'days_above_100F', \n",
        "       'august_avg_temp',  'october_avg_temp', \n",
        "       'september_avg_temp', 'november_avg_temp', 'february_avg_temp',\n",
        "       'days_above_90F', 'days_above_80F', 'march_avg_temp', 'precipitation_inches',\n",
        "       'january_avg_temp','june_avg_temp', 'april_avg_temp', \n",
        "        'july_avg_temp', 'may_avg_temp', 'december_avg_temp',\n",
        "       'days_above_110F'\n",
        "       ]\n",
        "\n",
        "features_to_add = {\n",
        "    'building_id': ['State_Factor', 'building_class', 'facility_type', 'year_built', 'floor_area', 'ELEVATION'],\n",
        "    'building_id_noState': ['building_class', 'facility_type', 'year_built', 'floor_area', 'ELEVATION'],\n",
        "    'building_id_noElevation': ['State_Factor', 'building_class', 'facility_type', 'year_built', 'floor_area'], # new\n",
        "    'floorArea_StarRating': ['floor_area', 'energy_star_rating'],\n",
        "    'floorArea_facilityType': ['floor_area', 'facility_type'],\n",
        "    'floorArea_buildingClass': ['floor_area', 'building_class'],\n",
        "    'floorArea_stateFactor': ['floor_area', 'State_Factor'],\n",
        "    'facilityType_stateFactor': ['facility_type', 'State_Factor'],\n",
        "    'yearBuilt_facilityType': ['year_built', 'facility_type'],\n",
        "    'yearBuilt_floorArea': ['year_built', 'floor_area'],\n",
        "    'yearBuilt_stateFactor': ['year_built', 'State_Factor'],\n",
        "    'buildingClass_StarRating': ['building_class', 'energy_star_rating']\n",
        "}"
      ]
    },
    {
      "cell_type": "markdown",
      "source": [
        "## Adding Features"
      ],
      "metadata": {
        "id": "nOt7DlXdEhJv"
      }
    },
    {
      "cell_type": "code",
      "source": [
        "train = add_interaction_features(train, features_to_add)\n",
        "test = add_interaction_features(test, features_to_add)"
      ],
      "metadata": {
        "id": "9LcW8mgo4Ul6"
      },
      "execution_count": 20,
      "outputs": []
    },
    {
      "cell_type": "markdown",
      "source": [
        "## Dropping Features and Rows"
      ],
      "metadata": {
        "id": "2tsEgkBlErq3"
      }
    },
    {
      "cell_type": "code",
      "execution_count": 21,
      "metadata": {
        "id": "mMVPcFBjjZHr"
      },
      "outputs": [],
      "source": [
        "train = drop_features(train, features_to_drop)\n",
        "test = drop_features(test, features_to_drop)"
      ]
    },
    {
      "cell_type": "code",
      "source": [
        "train.head()"
      ],
      "metadata": {
        "colab": {
          "base_uri": "https://localhost:8080/",
          "height": 270
        },
        "id": "473_slJYK70f",
        "outputId": "845089e2-c20c-4072-d19c-0eee6a65dcfc"
      },
      "execution_count": 22,
      "outputs": [
        {
          "output_type": "execute_result",
          "data": {
            "text/plain": [
              "   Year_Factor State_Factor                              facility_type  \\\n",
              "0            1      State_1               Grocery_store_or_food_market   \n",
              "1            1      State_1  Warehouse_Distribution_or_Shipping_center   \n",
              "2            1      State_1                       Retail_Enclosed_mall   \n",
              "3            1      State_1                  Education_Other_classroom   \n",
              "4            1      State_1                  Warehouse_Nonrefrigerated   \n",
              "\n",
              "   floor_area  year_built  energy_star_rating  ELEVATION    site_eui  \\\n",
              "0     61242.0      1942.0                11.0        2.4  248.682615   \n",
              "1    274000.0      1955.0                45.0        1.8   26.500150   \n",
              "2    280025.0      1951.0                97.0        1.8   24.693619   \n",
              "3     55325.0      1980.0                46.0        1.8   48.406926   \n",
              "4     66000.0      1985.0               100.0        2.4    3.899395   \n",
              "\n",
              "                                         building_id  \\\n",
              "0  State_1_Commercial_Grocery_store_or_food_marke...   \n",
              "1  State_1_Commercial_Warehouse_Distribution_or_S...   \n",
              "2  State_1_Commercial_Retail_Enclosed_mall_1951.0...   \n",
              "3  State_1_Commercial_Education_Other_classroom_1...   \n",
              "4  State_1_Commercial_Warehouse_Nonrefrigerated_1...   \n",
              "\n",
              "                                 building_id_noState  \\\n",
              "0  Commercial_Grocery_store_or_food_market_1942.0...   \n",
              "1  Commercial_Warehouse_Distribution_or_Shipping_...   \n",
              "2  Commercial_Retail_Enclosed_mall_1951.0_280025....   \n",
              "3  Commercial_Education_Other_classroom_1980.0_55...   \n",
              "4  Commercial_Warehouse_Nonrefrigerated_1985.0_66...   \n",
              "\n",
              "                             building_id_noElevation floorArea_StarRating  \\\n",
              "0  State_1_Commercial_Grocery_store_or_food_marke...         61242.0_11.0   \n",
              "1  State_1_Commercial_Warehouse_Distribution_or_S...        274000.0_45.0   \n",
              "2  State_1_Commercial_Retail_Enclosed_mall_1951.0...        280025.0_97.0   \n",
              "3  State_1_Commercial_Education_Other_classroom_1...         55325.0_46.0   \n",
              "4  State_1_Commercial_Warehouse_Nonrefrigerated_1...        66000.0_100.0   \n",
              "\n",
              "                              floorArea_facilityType floorArea_buildingClass  \\\n",
              "0               61242.0_Grocery_store_or_food_market      61242.0_Commercial   \n",
              "1  274000.0_Warehouse_Distribution_or_Shipping_ce...     274000.0_Commercial   \n",
              "2                      280025.0_Retail_Enclosed_mall     280025.0_Commercial   \n",
              "3                  55325.0_Education_Other_classroom      55325.0_Commercial   \n",
              "4                  66000.0_Warehouse_Nonrefrigerated      66000.0_Commercial   \n",
              "\n",
              "  floorArea_stateFactor                           facilityType_stateFactor  \\\n",
              "0       61242.0_State_1               Grocery_store_or_food_market_State_1   \n",
              "1      274000.0_State_1  Warehouse_Distribution_or_Shipping_center_State_1   \n",
              "2      280025.0_State_1                       Retail_Enclosed_mall_State_1   \n",
              "3       55325.0_State_1                  Education_Other_classroom_State_1   \n",
              "4       66000.0_State_1                  Warehouse_Nonrefrigerated_State_1   \n",
              "\n",
              "                             yearBuilt_facilityType yearBuilt_floorArea  \\\n",
              "0               1942.0_Grocery_store_or_food_market      1942.0_61242.0   \n",
              "1  1955.0_Warehouse_Distribution_or_Shipping_center     1955.0_274000.0   \n",
              "2                       1951.0_Retail_Enclosed_mall     1951.0_280025.0   \n",
              "3                  1980.0_Education_Other_classroom      1980.0_55325.0   \n",
              "4                  1985.0_Warehouse_Nonrefrigerated      1985.0_66000.0   \n",
              "\n",
              "  yearBuilt_stateFactor buildingClass_StarRating  \n",
              "0        1942.0_State_1          Commercial_11.0  \n",
              "1        1955.0_State_1          Commercial_45.0  \n",
              "2        1951.0_State_1          Commercial_97.0  \n",
              "3        1980.0_State_1          Commercial_46.0  \n",
              "4        1985.0_State_1         Commercial_100.0  "
            ],
            "text/html": [
              "\n",
              "  <div id=\"df-ca30e365-4856-49a0-a3b1-712d6d4575f3\">\n",
              "    <div class=\"colab-df-container\">\n",
              "      <div>\n",
              "<style scoped>\n",
              "    .dataframe tbody tr th:only-of-type {\n",
              "        vertical-align: middle;\n",
              "    }\n",
              "\n",
              "    .dataframe tbody tr th {\n",
              "        vertical-align: top;\n",
              "    }\n",
              "\n",
              "    .dataframe thead th {\n",
              "        text-align: right;\n",
              "    }\n",
              "</style>\n",
              "<table border=\"1\" class=\"dataframe\">\n",
              "  <thead>\n",
              "    <tr style=\"text-align: right;\">\n",
              "      <th></th>\n",
              "      <th>Year_Factor</th>\n",
              "      <th>State_Factor</th>\n",
              "      <th>facility_type</th>\n",
              "      <th>floor_area</th>\n",
              "      <th>year_built</th>\n",
              "      <th>energy_star_rating</th>\n",
              "      <th>ELEVATION</th>\n",
              "      <th>site_eui</th>\n",
              "      <th>building_id</th>\n",
              "      <th>building_id_noState</th>\n",
              "      <th>building_id_noElevation</th>\n",
              "      <th>floorArea_StarRating</th>\n",
              "      <th>floorArea_facilityType</th>\n",
              "      <th>floorArea_buildingClass</th>\n",
              "      <th>floorArea_stateFactor</th>\n",
              "      <th>facilityType_stateFactor</th>\n",
              "      <th>yearBuilt_facilityType</th>\n",
              "      <th>yearBuilt_floorArea</th>\n",
              "      <th>yearBuilt_stateFactor</th>\n",
              "      <th>buildingClass_StarRating</th>\n",
              "    </tr>\n",
              "  </thead>\n",
              "  <tbody>\n",
              "    <tr>\n",
              "      <th>0</th>\n",
              "      <td>1</td>\n",
              "      <td>State_1</td>\n",
              "      <td>Grocery_store_or_food_market</td>\n",
              "      <td>61242.0</td>\n",
              "      <td>1942.0</td>\n",
              "      <td>11.0</td>\n",
              "      <td>2.4</td>\n",
              "      <td>248.682615</td>\n",
              "      <td>State_1_Commercial_Grocery_store_or_food_marke...</td>\n",
              "      <td>Commercial_Grocery_store_or_food_market_1942.0...</td>\n",
              "      <td>State_1_Commercial_Grocery_store_or_food_marke...</td>\n",
              "      <td>61242.0_11.0</td>\n",
              "      <td>61242.0_Grocery_store_or_food_market</td>\n",
              "      <td>61242.0_Commercial</td>\n",
              "      <td>61242.0_State_1</td>\n",
              "      <td>Grocery_store_or_food_market_State_1</td>\n",
              "      <td>1942.0_Grocery_store_or_food_market</td>\n",
              "      <td>1942.0_61242.0</td>\n",
              "      <td>1942.0_State_1</td>\n",
              "      <td>Commercial_11.0</td>\n",
              "    </tr>\n",
              "    <tr>\n",
              "      <th>1</th>\n",
              "      <td>1</td>\n",
              "      <td>State_1</td>\n",
              "      <td>Warehouse_Distribution_or_Shipping_center</td>\n",
              "      <td>274000.0</td>\n",
              "      <td>1955.0</td>\n",
              "      <td>45.0</td>\n",
              "      <td>1.8</td>\n",
              "      <td>26.500150</td>\n",
              "      <td>State_1_Commercial_Warehouse_Distribution_or_S...</td>\n",
              "      <td>Commercial_Warehouse_Distribution_or_Shipping_...</td>\n",
              "      <td>State_1_Commercial_Warehouse_Distribution_or_S...</td>\n",
              "      <td>274000.0_45.0</td>\n",
              "      <td>274000.0_Warehouse_Distribution_or_Shipping_ce...</td>\n",
              "      <td>274000.0_Commercial</td>\n",
              "      <td>274000.0_State_1</td>\n",
              "      <td>Warehouse_Distribution_or_Shipping_center_State_1</td>\n",
              "      <td>1955.0_Warehouse_Distribution_or_Shipping_center</td>\n",
              "      <td>1955.0_274000.0</td>\n",
              "      <td>1955.0_State_1</td>\n",
              "      <td>Commercial_45.0</td>\n",
              "    </tr>\n",
              "    <tr>\n",
              "      <th>2</th>\n",
              "      <td>1</td>\n",
              "      <td>State_1</td>\n",
              "      <td>Retail_Enclosed_mall</td>\n",
              "      <td>280025.0</td>\n",
              "      <td>1951.0</td>\n",
              "      <td>97.0</td>\n",
              "      <td>1.8</td>\n",
              "      <td>24.693619</td>\n",
              "      <td>State_1_Commercial_Retail_Enclosed_mall_1951.0...</td>\n",
              "      <td>Commercial_Retail_Enclosed_mall_1951.0_280025....</td>\n",
              "      <td>State_1_Commercial_Retail_Enclosed_mall_1951.0...</td>\n",
              "      <td>280025.0_97.0</td>\n",
              "      <td>280025.0_Retail_Enclosed_mall</td>\n",
              "      <td>280025.0_Commercial</td>\n",
              "      <td>280025.0_State_1</td>\n",
              "      <td>Retail_Enclosed_mall_State_1</td>\n",
              "      <td>1951.0_Retail_Enclosed_mall</td>\n",
              "      <td>1951.0_280025.0</td>\n",
              "      <td>1951.0_State_1</td>\n",
              "      <td>Commercial_97.0</td>\n",
              "    </tr>\n",
              "    <tr>\n",
              "      <th>3</th>\n",
              "      <td>1</td>\n",
              "      <td>State_1</td>\n",
              "      <td>Education_Other_classroom</td>\n",
              "      <td>55325.0</td>\n",
              "      <td>1980.0</td>\n",
              "      <td>46.0</td>\n",
              "      <td>1.8</td>\n",
              "      <td>48.406926</td>\n",
              "      <td>State_1_Commercial_Education_Other_classroom_1...</td>\n",
              "      <td>Commercial_Education_Other_classroom_1980.0_55...</td>\n",
              "      <td>State_1_Commercial_Education_Other_classroom_1...</td>\n",
              "      <td>55325.0_46.0</td>\n",
              "      <td>55325.0_Education_Other_classroom</td>\n",
              "      <td>55325.0_Commercial</td>\n",
              "      <td>55325.0_State_1</td>\n",
              "      <td>Education_Other_classroom_State_1</td>\n",
              "      <td>1980.0_Education_Other_classroom</td>\n",
              "      <td>1980.0_55325.0</td>\n",
              "      <td>1980.0_State_1</td>\n",
              "      <td>Commercial_46.0</td>\n",
              "    </tr>\n",
              "    <tr>\n",
              "      <th>4</th>\n",
              "      <td>1</td>\n",
              "      <td>State_1</td>\n",
              "      <td>Warehouse_Nonrefrigerated</td>\n",
              "      <td>66000.0</td>\n",
              "      <td>1985.0</td>\n",
              "      <td>100.0</td>\n",
              "      <td>2.4</td>\n",
              "      <td>3.899395</td>\n",
              "      <td>State_1_Commercial_Warehouse_Nonrefrigerated_1...</td>\n",
              "      <td>Commercial_Warehouse_Nonrefrigerated_1985.0_66...</td>\n",
              "      <td>State_1_Commercial_Warehouse_Nonrefrigerated_1...</td>\n",
              "      <td>66000.0_100.0</td>\n",
              "      <td>66000.0_Warehouse_Nonrefrigerated</td>\n",
              "      <td>66000.0_Commercial</td>\n",
              "      <td>66000.0_State_1</td>\n",
              "      <td>Warehouse_Nonrefrigerated_State_1</td>\n",
              "      <td>1985.0_Warehouse_Nonrefrigerated</td>\n",
              "      <td>1985.0_66000.0</td>\n",
              "      <td>1985.0_State_1</td>\n",
              "      <td>Commercial_100.0</td>\n",
              "    </tr>\n",
              "  </tbody>\n",
              "</table>\n",
              "</div>\n",
              "      <button class=\"colab-df-convert\" onclick=\"convertToInteractive('df-ca30e365-4856-49a0-a3b1-712d6d4575f3')\"\n",
              "              title=\"Convert this dataframe to an interactive table.\"\n",
              "              style=\"display:none;\">\n",
              "        \n",
              "  <svg xmlns=\"http://www.w3.org/2000/svg\" height=\"24px\"viewBox=\"0 0 24 24\"\n",
              "       width=\"24px\">\n",
              "    <path d=\"M0 0h24v24H0V0z\" fill=\"none\"/>\n",
              "    <path d=\"M18.56 5.44l.94 2.06.94-2.06 2.06-.94-2.06-.94-.94-2.06-.94 2.06-2.06.94zm-11 1L8.5 8.5l.94-2.06 2.06-.94-2.06-.94L8.5 2.5l-.94 2.06-2.06.94zm10 10l.94 2.06.94-2.06 2.06-.94-2.06-.94-.94-2.06-.94 2.06-2.06.94z\"/><path d=\"M17.41 7.96l-1.37-1.37c-.4-.4-.92-.59-1.43-.59-.52 0-1.04.2-1.43.59L10.3 9.45l-7.72 7.72c-.78.78-.78 2.05 0 2.83L4 21.41c.39.39.9.59 1.41.59.51 0 1.02-.2 1.41-.59l7.78-7.78 2.81-2.81c.8-.78.8-2.07 0-2.86zM5.41 20L4 18.59l7.72-7.72 1.47 1.35L5.41 20z\"/>\n",
              "  </svg>\n",
              "      </button>\n",
              "      \n",
              "  <style>\n",
              "    .colab-df-container {\n",
              "      display:flex;\n",
              "      flex-wrap:wrap;\n",
              "      gap: 12px;\n",
              "    }\n",
              "\n",
              "    .colab-df-convert {\n",
              "      background-color: #E8F0FE;\n",
              "      border: none;\n",
              "      border-radius: 50%;\n",
              "      cursor: pointer;\n",
              "      display: none;\n",
              "      fill: #1967D2;\n",
              "      height: 32px;\n",
              "      padding: 0 0 0 0;\n",
              "      width: 32px;\n",
              "    }\n",
              "\n",
              "    .colab-df-convert:hover {\n",
              "      background-color: #E2EBFA;\n",
              "      box-shadow: 0px 1px 2px rgba(60, 64, 67, 0.3), 0px 1px 3px 1px rgba(60, 64, 67, 0.15);\n",
              "      fill: #174EA6;\n",
              "    }\n",
              "\n",
              "    [theme=dark] .colab-df-convert {\n",
              "      background-color: #3B4455;\n",
              "      fill: #D2E3FC;\n",
              "    }\n",
              "\n",
              "    [theme=dark] .colab-df-convert:hover {\n",
              "      background-color: #434B5C;\n",
              "      box-shadow: 0px 1px 3px 1px rgba(0, 0, 0, 0.15);\n",
              "      filter: drop-shadow(0px 1px 2px rgba(0, 0, 0, 0.3));\n",
              "      fill: #FFFFFF;\n",
              "    }\n",
              "  </style>\n",
              "\n",
              "      <script>\n",
              "        const buttonEl =\n",
              "          document.querySelector('#df-ca30e365-4856-49a0-a3b1-712d6d4575f3 button.colab-df-convert');\n",
              "        buttonEl.style.display =\n",
              "          google.colab.kernel.accessAllowed ? 'block' : 'none';\n",
              "\n",
              "        async function convertToInteractive(key) {\n",
              "          const element = document.querySelector('#df-ca30e365-4856-49a0-a3b1-712d6d4575f3');\n",
              "          const dataTable =\n",
              "            await google.colab.kernel.invokeFunction('convertToInteractive',\n",
              "                                                     [key], {});\n",
              "          if (!dataTable) return;\n",
              "\n",
              "          const docLinkHtml = 'Like what you see? Visit the ' +\n",
              "            '<a target=\"_blank\" href=https://colab.research.google.com/notebooks/data_table.ipynb>data table notebook</a>'\n",
              "            + ' to learn more about interactive tables.';\n",
              "          element.innerHTML = '';\n",
              "          dataTable['output_type'] = 'display_data';\n",
              "          await google.colab.output.renderOutput(dataTable, element);\n",
              "          const docLink = document.createElement('div');\n",
              "          docLink.innerHTML = docLinkHtml;\n",
              "          element.appendChild(docLink);\n",
              "        }\n",
              "      </script>\n",
              "    </div>\n",
              "  </div>\n",
              "  "
            ]
          },
          "metadata": {},
          "execution_count": 22
        }
      ]
    },
    {
      "cell_type": "code",
      "source": [
        "test.head()"
      ],
      "metadata": {
        "colab": {
          "base_uri": "https://localhost:8080/",
          "height": 270
        },
        "id": "BrnwaC9FhQHD",
        "outputId": "ab5728d4-e634-4741-f2b6-47932a54f08b"
      },
      "execution_count": 23,
      "outputs": [
        {
          "output_type": "execute_result",
          "data": {
            "text/plain": [
              "   Year_Factor State_Factor                 facility_type  floor_area  \\\n",
              "0            7      State_1  Grocery_store_or_food_market     28484.0   \n",
              "1            7      State_1  Grocery_store_or_food_market     21906.0   \n",
              "2            7      State_1  Grocery_store_or_food_market     16138.0   \n",
              "3            7      State_1  Grocery_store_or_food_market     97422.0   \n",
              "4            7      State_1  Grocery_store_or_food_market     61242.0   \n",
              "\n",
              "   year_built  energy_star_rating  ELEVATION  \\\n",
              "0      1994.0                37.0        2.4   \n",
              "1      1961.0                55.0       45.7   \n",
              "2      1950.0                 1.0       59.1   \n",
              "3      1971.0                34.0       35.4   \n",
              "4      1942.0                35.0        1.8   \n",
              "\n",
              "                                         building_id  \\\n",
              "0  State_1_Commercial_Grocery_store_or_food_marke...   \n",
              "1  State_1_Commercial_Grocery_store_or_food_marke...   \n",
              "2  State_1_Commercial_Grocery_store_or_food_marke...   \n",
              "3  State_1_Commercial_Grocery_store_or_food_marke...   \n",
              "4  State_1_Commercial_Grocery_store_or_food_marke...   \n",
              "\n",
              "                                 building_id_noState  \\\n",
              "0  Commercial_Grocery_store_or_food_market_1994.0...   \n",
              "1  Commercial_Grocery_store_or_food_market_1961.0...   \n",
              "2  Commercial_Grocery_store_or_food_market_1950.0...   \n",
              "3  Commercial_Grocery_store_or_food_market_1971.0...   \n",
              "4  Commercial_Grocery_store_or_food_market_1942.0...   \n",
              "\n",
              "                             building_id_noElevation floorArea_StarRating  \\\n",
              "0  State_1_Commercial_Grocery_store_or_food_marke...         28484.0_37.0   \n",
              "1  State_1_Commercial_Grocery_store_or_food_marke...         21906.0_55.0   \n",
              "2  State_1_Commercial_Grocery_store_or_food_marke...          16138.0_1.0   \n",
              "3  State_1_Commercial_Grocery_store_or_food_marke...         97422.0_34.0   \n",
              "4  State_1_Commercial_Grocery_store_or_food_marke...         61242.0_35.0   \n",
              "\n",
              "                 floorArea_facilityType floorArea_buildingClass  \\\n",
              "0  28484.0_Grocery_store_or_food_market      28484.0_Commercial   \n",
              "1  21906.0_Grocery_store_or_food_market      21906.0_Commercial   \n",
              "2  16138.0_Grocery_store_or_food_market      16138.0_Commercial   \n",
              "3  97422.0_Grocery_store_or_food_market      97422.0_Commercial   \n",
              "4  61242.0_Grocery_store_or_food_market      61242.0_Commercial   \n",
              "\n",
              "  floorArea_stateFactor              facilityType_stateFactor  \\\n",
              "0       28484.0_State_1  Grocery_store_or_food_market_State_1   \n",
              "1       21906.0_State_1  Grocery_store_or_food_market_State_1   \n",
              "2       16138.0_State_1  Grocery_store_or_food_market_State_1   \n",
              "3       97422.0_State_1  Grocery_store_or_food_market_State_1   \n",
              "4       61242.0_State_1  Grocery_store_or_food_market_State_1   \n",
              "\n",
              "                yearBuilt_facilityType yearBuilt_floorArea  \\\n",
              "0  1994.0_Grocery_store_or_food_market      1994.0_28484.0   \n",
              "1  1961.0_Grocery_store_or_food_market      1961.0_21906.0   \n",
              "2  1950.0_Grocery_store_or_food_market      1950.0_16138.0   \n",
              "3  1971.0_Grocery_store_or_food_market      1971.0_97422.0   \n",
              "4  1942.0_Grocery_store_or_food_market      1942.0_61242.0   \n",
              "\n",
              "  yearBuilt_stateFactor buildingClass_StarRating  \n",
              "0        1994.0_State_1          Commercial_37.0  \n",
              "1        1961.0_State_1          Commercial_55.0  \n",
              "2        1950.0_State_1           Commercial_1.0  \n",
              "3        1971.0_State_1          Commercial_34.0  \n",
              "4        1942.0_State_1          Commercial_35.0  "
            ],
            "text/html": [
              "\n",
              "  <div id=\"df-a6584d37-158d-4281-bb37-3fdb2087d671\">\n",
              "    <div class=\"colab-df-container\">\n",
              "      <div>\n",
              "<style scoped>\n",
              "    .dataframe tbody tr th:only-of-type {\n",
              "        vertical-align: middle;\n",
              "    }\n",
              "\n",
              "    .dataframe tbody tr th {\n",
              "        vertical-align: top;\n",
              "    }\n",
              "\n",
              "    .dataframe thead th {\n",
              "        text-align: right;\n",
              "    }\n",
              "</style>\n",
              "<table border=\"1\" class=\"dataframe\">\n",
              "  <thead>\n",
              "    <tr style=\"text-align: right;\">\n",
              "      <th></th>\n",
              "      <th>Year_Factor</th>\n",
              "      <th>State_Factor</th>\n",
              "      <th>facility_type</th>\n",
              "      <th>floor_area</th>\n",
              "      <th>year_built</th>\n",
              "      <th>energy_star_rating</th>\n",
              "      <th>ELEVATION</th>\n",
              "      <th>building_id</th>\n",
              "      <th>building_id_noState</th>\n",
              "      <th>building_id_noElevation</th>\n",
              "      <th>floorArea_StarRating</th>\n",
              "      <th>floorArea_facilityType</th>\n",
              "      <th>floorArea_buildingClass</th>\n",
              "      <th>floorArea_stateFactor</th>\n",
              "      <th>facilityType_stateFactor</th>\n",
              "      <th>yearBuilt_facilityType</th>\n",
              "      <th>yearBuilt_floorArea</th>\n",
              "      <th>yearBuilt_stateFactor</th>\n",
              "      <th>buildingClass_StarRating</th>\n",
              "    </tr>\n",
              "  </thead>\n",
              "  <tbody>\n",
              "    <tr>\n",
              "      <th>0</th>\n",
              "      <td>7</td>\n",
              "      <td>State_1</td>\n",
              "      <td>Grocery_store_or_food_market</td>\n",
              "      <td>28484.0</td>\n",
              "      <td>1994.0</td>\n",
              "      <td>37.0</td>\n",
              "      <td>2.4</td>\n",
              "      <td>State_1_Commercial_Grocery_store_or_food_marke...</td>\n",
              "      <td>Commercial_Grocery_store_or_food_market_1994.0...</td>\n",
              "      <td>State_1_Commercial_Grocery_store_or_food_marke...</td>\n",
              "      <td>28484.0_37.0</td>\n",
              "      <td>28484.0_Grocery_store_or_food_market</td>\n",
              "      <td>28484.0_Commercial</td>\n",
              "      <td>28484.0_State_1</td>\n",
              "      <td>Grocery_store_or_food_market_State_1</td>\n",
              "      <td>1994.0_Grocery_store_or_food_market</td>\n",
              "      <td>1994.0_28484.0</td>\n",
              "      <td>1994.0_State_1</td>\n",
              "      <td>Commercial_37.0</td>\n",
              "    </tr>\n",
              "    <tr>\n",
              "      <th>1</th>\n",
              "      <td>7</td>\n",
              "      <td>State_1</td>\n",
              "      <td>Grocery_store_or_food_market</td>\n",
              "      <td>21906.0</td>\n",
              "      <td>1961.0</td>\n",
              "      <td>55.0</td>\n",
              "      <td>45.7</td>\n",
              "      <td>State_1_Commercial_Grocery_store_or_food_marke...</td>\n",
              "      <td>Commercial_Grocery_store_or_food_market_1961.0...</td>\n",
              "      <td>State_1_Commercial_Grocery_store_or_food_marke...</td>\n",
              "      <td>21906.0_55.0</td>\n",
              "      <td>21906.0_Grocery_store_or_food_market</td>\n",
              "      <td>21906.0_Commercial</td>\n",
              "      <td>21906.0_State_1</td>\n",
              "      <td>Grocery_store_or_food_market_State_1</td>\n",
              "      <td>1961.0_Grocery_store_or_food_market</td>\n",
              "      <td>1961.0_21906.0</td>\n",
              "      <td>1961.0_State_1</td>\n",
              "      <td>Commercial_55.0</td>\n",
              "    </tr>\n",
              "    <tr>\n",
              "      <th>2</th>\n",
              "      <td>7</td>\n",
              "      <td>State_1</td>\n",
              "      <td>Grocery_store_or_food_market</td>\n",
              "      <td>16138.0</td>\n",
              "      <td>1950.0</td>\n",
              "      <td>1.0</td>\n",
              "      <td>59.1</td>\n",
              "      <td>State_1_Commercial_Grocery_store_or_food_marke...</td>\n",
              "      <td>Commercial_Grocery_store_or_food_market_1950.0...</td>\n",
              "      <td>State_1_Commercial_Grocery_store_or_food_marke...</td>\n",
              "      <td>16138.0_1.0</td>\n",
              "      <td>16138.0_Grocery_store_or_food_market</td>\n",
              "      <td>16138.0_Commercial</td>\n",
              "      <td>16138.0_State_1</td>\n",
              "      <td>Grocery_store_or_food_market_State_1</td>\n",
              "      <td>1950.0_Grocery_store_or_food_market</td>\n",
              "      <td>1950.0_16138.0</td>\n",
              "      <td>1950.0_State_1</td>\n",
              "      <td>Commercial_1.0</td>\n",
              "    </tr>\n",
              "    <tr>\n",
              "      <th>3</th>\n",
              "      <td>7</td>\n",
              "      <td>State_1</td>\n",
              "      <td>Grocery_store_or_food_market</td>\n",
              "      <td>97422.0</td>\n",
              "      <td>1971.0</td>\n",
              "      <td>34.0</td>\n",
              "      <td>35.4</td>\n",
              "      <td>State_1_Commercial_Grocery_store_or_food_marke...</td>\n",
              "      <td>Commercial_Grocery_store_or_food_market_1971.0...</td>\n",
              "      <td>State_1_Commercial_Grocery_store_or_food_marke...</td>\n",
              "      <td>97422.0_34.0</td>\n",
              "      <td>97422.0_Grocery_store_or_food_market</td>\n",
              "      <td>97422.0_Commercial</td>\n",
              "      <td>97422.0_State_1</td>\n",
              "      <td>Grocery_store_or_food_market_State_1</td>\n",
              "      <td>1971.0_Grocery_store_or_food_market</td>\n",
              "      <td>1971.0_97422.0</td>\n",
              "      <td>1971.0_State_1</td>\n",
              "      <td>Commercial_34.0</td>\n",
              "    </tr>\n",
              "    <tr>\n",
              "      <th>4</th>\n",
              "      <td>7</td>\n",
              "      <td>State_1</td>\n",
              "      <td>Grocery_store_or_food_market</td>\n",
              "      <td>61242.0</td>\n",
              "      <td>1942.0</td>\n",
              "      <td>35.0</td>\n",
              "      <td>1.8</td>\n",
              "      <td>State_1_Commercial_Grocery_store_or_food_marke...</td>\n",
              "      <td>Commercial_Grocery_store_or_food_market_1942.0...</td>\n",
              "      <td>State_1_Commercial_Grocery_store_or_food_marke...</td>\n",
              "      <td>61242.0_35.0</td>\n",
              "      <td>61242.0_Grocery_store_or_food_market</td>\n",
              "      <td>61242.0_Commercial</td>\n",
              "      <td>61242.0_State_1</td>\n",
              "      <td>Grocery_store_or_food_market_State_1</td>\n",
              "      <td>1942.0_Grocery_store_or_food_market</td>\n",
              "      <td>1942.0_61242.0</td>\n",
              "      <td>1942.0_State_1</td>\n",
              "      <td>Commercial_35.0</td>\n",
              "    </tr>\n",
              "  </tbody>\n",
              "</table>\n",
              "</div>\n",
              "      <button class=\"colab-df-convert\" onclick=\"convertToInteractive('df-a6584d37-158d-4281-bb37-3fdb2087d671')\"\n",
              "              title=\"Convert this dataframe to an interactive table.\"\n",
              "              style=\"display:none;\">\n",
              "        \n",
              "  <svg xmlns=\"http://www.w3.org/2000/svg\" height=\"24px\"viewBox=\"0 0 24 24\"\n",
              "       width=\"24px\">\n",
              "    <path d=\"M0 0h24v24H0V0z\" fill=\"none\"/>\n",
              "    <path d=\"M18.56 5.44l.94 2.06.94-2.06 2.06-.94-2.06-.94-.94-2.06-.94 2.06-2.06.94zm-11 1L8.5 8.5l.94-2.06 2.06-.94-2.06-.94L8.5 2.5l-.94 2.06-2.06.94zm10 10l.94 2.06.94-2.06 2.06-.94-2.06-.94-.94-2.06-.94 2.06-2.06.94z\"/><path d=\"M17.41 7.96l-1.37-1.37c-.4-.4-.92-.59-1.43-.59-.52 0-1.04.2-1.43.59L10.3 9.45l-7.72 7.72c-.78.78-.78 2.05 0 2.83L4 21.41c.39.39.9.59 1.41.59.51 0 1.02-.2 1.41-.59l7.78-7.78 2.81-2.81c.8-.78.8-2.07 0-2.86zM5.41 20L4 18.59l7.72-7.72 1.47 1.35L5.41 20z\"/>\n",
              "  </svg>\n",
              "      </button>\n",
              "      \n",
              "  <style>\n",
              "    .colab-df-container {\n",
              "      display:flex;\n",
              "      flex-wrap:wrap;\n",
              "      gap: 12px;\n",
              "    }\n",
              "\n",
              "    .colab-df-convert {\n",
              "      background-color: #E8F0FE;\n",
              "      border: none;\n",
              "      border-radius: 50%;\n",
              "      cursor: pointer;\n",
              "      display: none;\n",
              "      fill: #1967D2;\n",
              "      height: 32px;\n",
              "      padding: 0 0 0 0;\n",
              "      width: 32px;\n",
              "    }\n",
              "\n",
              "    .colab-df-convert:hover {\n",
              "      background-color: #E2EBFA;\n",
              "      box-shadow: 0px 1px 2px rgba(60, 64, 67, 0.3), 0px 1px 3px 1px rgba(60, 64, 67, 0.15);\n",
              "      fill: #174EA6;\n",
              "    }\n",
              "\n",
              "    [theme=dark] .colab-df-convert {\n",
              "      background-color: #3B4455;\n",
              "      fill: #D2E3FC;\n",
              "    }\n",
              "\n",
              "    [theme=dark] .colab-df-convert:hover {\n",
              "      background-color: #434B5C;\n",
              "      box-shadow: 0px 1px 3px 1px rgba(0, 0, 0, 0.15);\n",
              "      filter: drop-shadow(0px 1px 2px rgba(0, 0, 0, 0.3));\n",
              "      fill: #FFFFFF;\n",
              "    }\n",
              "  </style>\n",
              "\n",
              "      <script>\n",
              "        const buttonEl =\n",
              "          document.querySelector('#df-a6584d37-158d-4281-bb37-3fdb2087d671 button.colab-df-convert');\n",
              "        buttonEl.style.display =\n",
              "          google.colab.kernel.accessAllowed ? 'block' : 'none';\n",
              "\n",
              "        async function convertToInteractive(key) {\n",
              "          const element = document.querySelector('#df-a6584d37-158d-4281-bb37-3fdb2087d671');\n",
              "          const dataTable =\n",
              "            await google.colab.kernel.invokeFunction('convertToInteractive',\n",
              "                                                     [key], {});\n",
              "          if (!dataTable) return;\n",
              "\n",
              "          const docLinkHtml = 'Like what you see? Visit the ' +\n",
              "            '<a target=\"_blank\" href=https://colab.research.google.com/notebooks/data_table.ipynb>data table notebook</a>'\n",
              "            + ' to learn more about interactive tables.';\n",
              "          element.innerHTML = '';\n",
              "          dataTable['output_type'] = 'display_data';\n",
              "          await google.colab.output.renderOutput(dataTable, element);\n",
              "          const docLink = document.createElement('div');\n",
              "          docLink.innerHTML = docLinkHtml;\n",
              "          element.appendChild(docLink);\n",
              "        }\n",
              "      </script>\n",
              "    </div>\n",
              "  </div>\n",
              "  "
            ]
          },
          "metadata": {},
          "execution_count": 23
        }
      ]
    },
    {
      "cell_type": "code",
      "source": [
        "len(train)"
      ],
      "metadata": {
        "colab": {
          "base_uri": "https://localhost:8080/"
        },
        "id": "ab3FykCwSsf5",
        "outputId": "ed87cd8e-e7bf-4611-b838-2c8ca45b3839"
      },
      "execution_count": 24,
      "outputs": [
        {
          "output_type": "execute_result",
          "data": {
            "text/plain": [
              "75757"
            ]
          },
          "metadata": {},
          "execution_count": 24
        }
      ]
    },
    {
      "cell_type": "code",
      "source": [
        "len(test)"
      ],
      "metadata": {
        "colab": {
          "base_uri": "https://localhost:8080/"
        },
        "id": "rO9XYsRPUXUt",
        "outputId": "921684ec-a60b-4381-a3b1-e332c41bbcb3"
      },
      "execution_count": 25,
      "outputs": [
        {
          "output_type": "execute_result",
          "data": {
            "text/plain": [
              "9705"
            ]
          },
          "metadata": {},
          "execution_count": 25
        }
      ]
    },
    {
      "cell_type": "markdown",
      "source": [
        "# GroupKFold Cross Validation"
      ],
      "metadata": {
        "id": "kGqh8eWJs9zS"
      }
    },
    {
      "cell_type": "code",
      "source": [
        "_ = groupkFold_cross_validate(train, naive_impute, target_encode_categs, min_max_scale_features, train_lgbm)"
      ],
      "metadata": {
        "colab": {
          "base_uri": "https://localhost:8080/"
        },
        "id": "Alh6qnYgs7NZ",
        "outputId": "e025cb5a-7744-4214-b8b7-c787399cd730"
      },
      "execution_count": 26,
      "outputs": [
        {
          "output_type": "stream",
          "name": "stdout",
          "text": [
            "- RMSE of fold 1 = 33.342430286183436\n",
            "- RMSE of fold 2 = 26.00462532452766\n",
            "- RMSE of fold 3 = 25.86087490101921\n",
            "- RMSE of fold 4 = 33.44907555431845\n",
            "- RMSE of fold 5 = 34.65856224420807\n",
            "- RMSE of fold 6 = 45.47651733807342\n",
            "OOF RMSE = 31.132537603754677\n"
          ]
        }
      ]
    },
    {
      "cell_type": "markdown",
      "metadata": {
        "id": "_RDgMYRYGYaJ"
      },
      "source": [
        "# Building Final Models"
      ]
    },
    {
      "cell_type": "markdown",
      "metadata": {
        "id": "qQcIkcKbGVbm"
      },
      "source": [
        "## Preparing Data for Models"
      ]
    },
    {
      "cell_type": "code",
      "source": [
        "train, test = target_encode_categs(train, test)\n",
        "train, test = naive_impute(train, test)\n",
        "train, test = min_max_scale_features(train, test)\n",
        "\n",
        "X_train = train.drop('site_eui', axis=1)\n",
        "y_train = train['site_eui']"
      ],
      "metadata": {
        "id": "qTHkkM3uCqIZ"
      },
      "execution_count": 27,
      "outputs": []
    },
    {
      "cell_type": "markdown",
      "metadata": {
        "id": "f-4tLZrK9l5G"
      },
      "source": [
        "## LightGBM"
      ]
    },
    {
      "cell_type": "code",
      "execution_count": 28,
      "metadata": {
        "id": "26fDj1fs-3uC"
      },
      "outputs": [],
      "source": [
        "lgbm_train = lgb.Dataset(X_train, y_train)\n",
        "\n",
        "params = {\n",
        "          'task': 'train',\n",
        "          'boosting_type': 'gbdt',\n",
        "          'objective': 'regression',\n",
        "          'metric': {'rmse'},\n",
        "          \"max_depth\":12,\n",
        "          \"num_leaves\":32,\n",
        "          'learning_rate': 0.1,\n",
        "          \"min_child_samples\": 100,\n",
        "          'feature_fraction': 0.9,\n",
        "          \"bagging_freq\":1,\n",
        "          'bagging_fraction': 0.9,\n",
        "          \"lambda_l1\":10,\n",
        "          \"lambda_l2\":10,\n",
        "          'min_data_per_group':500,\n",
        "          'verbose': 0\n",
        "          }"
      ]
    },
    {
      "cell_type": "code",
      "source": [
        "lgbm = lgb.train(params,\n",
        "                  lgbm_train,\n",
        "                  num_boost_round=13100)"
      ],
      "metadata": {
        "id": "0AfFYvAY-Qjd"
      },
      "execution_count": 29,
      "outputs": []
    },
    {
      "cell_type": "code",
      "source": [
        "lgbm_preds = lgbm.predict(test)"
      ],
      "metadata": {
        "id": "MhpYOjtSvNmX"
      },
      "execution_count": 30,
      "outputs": []
    },
    {
      "cell_type": "markdown",
      "source": [
        "## Random Forest Regressor"
      ],
      "metadata": {
        "id": "pb8yg8Nanebp"
      }
    },
    {
      "cell_type": "code",
      "source": [
        "rf = train_rf(X_train, y_train, None, None)"
      ],
      "metadata": {
        "id": "pHN9uwAsnhzi"
      },
      "execution_count": 31,
      "outputs": []
    },
    {
      "cell_type": "code",
      "source": [
        "rf_preds = rf.predict(test)"
      ],
      "metadata": {
        "id": "uzq4WREjvHxG"
      },
      "execution_count": 32,
      "outputs": []
    },
    {
      "cell_type": "markdown",
      "metadata": {
        "id": "lipbGH6falPd"
      },
      "source": [
        "# Making the Submission"
      ]
    },
    {
      "cell_type": "code",
      "source": [
        "ensemble_lgbm_rf = (0.5*lgbm_preds) + (0.5*rf_preds)"
      ],
      "metadata": {
        "id": "WbN0gV8Q8_xz"
      },
      "execution_count": 38,
      "outputs": []
    },
    {
      "cell_type": "code",
      "source": [
        "sub['site_eui'] = ensemble_lgbm_rf"
      ],
      "metadata": {
        "id": "3LuLuKsnwjPr"
      },
      "execution_count": 39,
      "outputs": []
    },
    {
      "cell_type": "code",
      "source": [
        "sub['site_eui'] "
      ],
      "metadata": {
        "colab": {
          "base_uri": "https://localhost:8080/"
        },
        "id": "0OR6RLJf0rCy",
        "outputId": "0963bf99-1432-49b6-f8af-8e0748b8317c"
      },
      "execution_count": 40,
      "outputs": [
        {
          "output_type": "execute_result",
          "data": {
            "text/plain": [
              "0       185.209205\n",
              "1       282.222711\n",
              "2       167.960621\n",
              "3       234.830093\n",
              "4       246.963129\n",
              "           ...    \n",
              "9700     22.727695\n",
              "9701     21.397957\n",
              "9702     35.025546\n",
              "9703     27.589009\n",
              "9704     18.124306\n",
              "Name: site_eui, Length: 9705, dtype: float64"
            ]
          },
          "metadata": {},
          "execution_count": 40
        }
      ]
    },
    {
      "cell_type": "code",
      "source": [
        "sub.to_csv(\"submission.csv\", index = False)"
      ],
      "metadata": {
        "id": "Ng0kbo3tUs8O"
      },
      "execution_count": 37,
      "outputs": []
    }
  ],
  "metadata": {
    "colab": {
      "name": "WiDS-2022-code.ipynb",
      "provenance": [],
      "collapsed_sections": [],
      "toc_visible": true
    },
    "kernelspec": {
      "display_name": "Python 3",
      "name": "python3"
    },
    "language_info": {
      "name": "python"
    }
  },
  "nbformat": 4,
  "nbformat_minor": 0
}